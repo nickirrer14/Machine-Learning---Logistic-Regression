{
 "cells": [
  {
   "cell_type": "markdown",
   "metadata": {},
   "source": [
    "<h2>FIN5622 Project #1\n",
    "    <p class=\"text-primary\">Loan Default Prediction with Logistic Regression</p>\n",
    "</h2>\n",
    "\n",
    "<div class = \"alert alert-block alert-danger\">\n",
    "    <b>Due Date</b>: March 19th, 2021, 11:59PM EST\n",
    "</div>  "
   ]
  },
  {
   "cell_type": "markdown",
   "metadata": {},
   "source": [
    "<div class = \"panel panel-success\">\n",
    "    <div class = \"panel-heading\"> \n",
    "    <span style=\"color:black\"><b>Project Introduction</b>\n",
    "    </div>\n",
    "    <div class = \"panel-body\"> \n",
    "    In this project we will build a logistic regression model to predict borrower defaults on a set of historical loan performance dataset.\n",
    "    </div>\n",
    "</div>\n",
    "\n",
    "<div class = \"panel panel-info\">\n",
    "    <div class = \"panel-heading\"> \n",
    "    <span style=\"color:black\"><b>Instructions</b>\n",
    "    </div>\n",
    "    <div class = \"panel-body\"> \n",
    "    Please code you solutions directly in this Notebook under each task in the cells provided below. Tasks are intended to be done in order with results from previous tasks informing work in later tasks. Include all code used to produce your results, and support your answers with comments if neccessary. You may feel free to add additional Code and/or Markdown cells as needed. Code must be written using <b>Python 3</b>.\n",
    "    <br><br>Please order the cells in your Notebook in the order in which they are intended to run! It is expected that your Notebook is able to run in sequence from start to finish without any errors (before submitting check by: <code>Kernel > Restart & Run All</code>).\n",
    "    <br><br>Once ready, please submit your assignment as an <b>.ipynb file</b> (<code>File > Download as > Notebook</code>). You must name your files in the following format: <b><code>FIN5622_Project_1_Richard_Lee_tuc12345.ipynb</code></b>.\n",
    "    </div>\n",
    "</div>\n",
    "\n",
    "---\n",
    "<div class = \"alert alert-block alert-warning\">\n",
    "    <b>Note</b>: Import all libraries that you plan on using in the code block below.\n",
    "</div>"
   ]
  },
  {
   "cell_type": "code",
   "execution_count": 22,
   "metadata": {},
   "outputs": [],
   "source": [
    "import pandas as pd\n",
    "import numpy as np\n",
    "import matplotlib.pyplot as plt\n",
    "\n",
    "from sklearn.model_selection import train_test_split\n",
    "from sklearn.linear_model import LogisticRegression\n",
    "from sklearn.metrics import confusion_matrix"
   ]
  },
  {
   "cell_type": "markdown",
   "metadata": {},
   "source": [
    "<div class = \"panel panel-primary\">\n",
    "    <div class = \"panel-heading\"> \n",
    "    <span style=\"color:white\"><b>Task 1</b>\n",
    "    </div>\n",
    "    <div class = \"panel-body\"> \n",
    "    Read in the dataset \"loan_performance_data_2016.csv\" into a dataframe called <code>loans</code> using the pandas <code>read_csv</code> function. Check that there are 405,180 loans present in the dataframe.\n",
    "    <br><br>\n",
    "    Note that there are 16 feature columns and 1 target column (i.e. \"loan_default\") in this dataset. Please review the file \"Loan_Data_Dictionary.xlsx\" for definitions on each column. Pick a variable that you believe will be an important explanatory variable for loan defaults and explain why.\n",
    "    <p style=\"text-align:right;\">[5pts]</p>\n",
    "    </div>\n",
    "</div>"
   ]
  },
  {
   "cell_type": "code",
   "execution_count": 23,
   "metadata": {},
   "outputs": [],
   "source": [
    "path = '../Data'"
   ]
  },
  {
   "cell_type": "code",
   "execution_count": 24,
   "metadata": {},
   "outputs": [
    {
     "data": {
      "text/html": [
       "<div>\n",
       "<style scoped>\n",
       "    .dataframe tbody tr th:only-of-type {\n",
       "        vertical-align: middle;\n",
       "    }\n",
       "\n",
       "    .dataframe tbody tr th {\n",
       "        vertical-align: top;\n",
       "    }\n",
       "\n",
       "    .dataframe thead th {\n",
       "        text-align: right;\n",
       "    }\n",
       "</style>\n",
       "<table border=\"1\" class=\"dataframe\">\n",
       "  <thead>\n",
       "    <tr style=\"text-align: right;\">\n",
       "      <th></th>\n",
       "      <th>loan_amnt</th>\n",
       "      <th>loan_term</th>\n",
       "      <th>int_rate</th>\n",
       "      <th>fico</th>\n",
       "      <th>dti</th>\n",
       "      <th>annual_income</th>\n",
       "      <th>income_verification</th>\n",
       "      <th>home_mortgage</th>\n",
       "      <th>home_own</th>\n",
       "      <th>home_rent</th>\n",
       "      <th>debt_consolidation</th>\n",
       "      <th>coborrower</th>\n",
       "      <th>num_accounts</th>\n",
       "      <th>revol_bal</th>\n",
       "      <th>revol_util</th>\n",
       "      <th>derogatory_records</th>\n",
       "      <th>loan_default</th>\n",
       "    </tr>\n",
       "  </thead>\n",
       "  <tbody>\n",
       "    <tr>\n",
       "      <th>0</th>\n",
       "      <td>7.200</td>\n",
       "      <td>3.0</td>\n",
       "      <td>5.32</td>\n",
       "      <td>750</td>\n",
       "      <td>19.05</td>\n",
       "      <td>49.0</td>\n",
       "      <td>0</td>\n",
       "      <td>1</td>\n",
       "      <td>0</td>\n",
       "      <td>0</td>\n",
       "      <td>1</td>\n",
       "      <td>0</td>\n",
       "      <td>11</td>\n",
       "      <td>9.309</td>\n",
       "      <td>18.4</td>\n",
       "      <td>0</td>\n",
       "      <td>0</td>\n",
       "    </tr>\n",
       "    <tr>\n",
       "      <th>1</th>\n",
       "      <td>12.000</td>\n",
       "      <td>5.0</td>\n",
       "      <td>11.99</td>\n",
       "      <td>670</td>\n",
       "      <td>6.59</td>\n",
       "      <td>49.0</td>\n",
       "      <td>0</td>\n",
       "      <td>1</td>\n",
       "      <td>0</td>\n",
       "      <td>0</td>\n",
       "      <td>0</td>\n",
       "      <td>0</td>\n",
       "      <td>10</td>\n",
       "      <td>12.152</td>\n",
       "      <td>50.6</td>\n",
       "      <td>0</td>\n",
       "      <td>1</td>\n",
       "    </tr>\n",
       "    <tr>\n",
       "      <th>2</th>\n",
       "      <td>11.425</td>\n",
       "      <td>3.0</td>\n",
       "      <td>19.53</td>\n",
       "      <td>730</td>\n",
       "      <td>35.56</td>\n",
       "      <td>26.0</td>\n",
       "      <td>0</td>\n",
       "      <td>0</td>\n",
       "      <td>0</td>\n",
       "      <td>1</td>\n",
       "      <td>0</td>\n",
       "      <td>0</td>\n",
       "      <td>11</td>\n",
       "      <td>2.096</td>\n",
       "      <td>7.2</td>\n",
       "      <td>0</td>\n",
       "      <td>0</td>\n",
       "    </tr>\n",
       "    <tr>\n",
       "      <th>3</th>\n",
       "      <td>17.500</td>\n",
       "      <td>3.0</td>\n",
       "      <td>13.67</td>\n",
       "      <td>665</td>\n",
       "      <td>38.29</td>\n",
       "      <td>46.0</td>\n",
       "      <td>0</td>\n",
       "      <td>0</td>\n",
       "      <td>0</td>\n",
       "      <td>1</td>\n",
       "      <td>1</td>\n",
       "      <td>0</td>\n",
       "      <td>33</td>\n",
       "      <td>18.847</td>\n",
       "      <td>62.6</td>\n",
       "      <td>0</td>\n",
       "      <td>0</td>\n",
       "    </tr>\n",
       "    <tr>\n",
       "      <th>4</th>\n",
       "      <td>22.875</td>\n",
       "      <td>5.0</td>\n",
       "      <td>17.27</td>\n",
       "      <td>670</td>\n",
       "      <td>11.75</td>\n",
       "      <td>65.0</td>\n",
       "      <td>0</td>\n",
       "      <td>0</td>\n",
       "      <td>0</td>\n",
       "      <td>1</td>\n",
       "      <td>1</td>\n",
       "      <td>0</td>\n",
       "      <td>6</td>\n",
       "      <td>25.200</td>\n",
       "      <td>90.0</td>\n",
       "      <td>0</td>\n",
       "      <td>0</td>\n",
       "    </tr>\n",
       "    <tr>\n",
       "      <th>...</th>\n",
       "      <td>...</td>\n",
       "      <td>...</td>\n",
       "      <td>...</td>\n",
       "      <td>...</td>\n",
       "      <td>...</td>\n",
       "      <td>...</td>\n",
       "      <td>...</td>\n",
       "      <td>...</td>\n",
       "      <td>...</td>\n",
       "      <td>...</td>\n",
       "      <td>...</td>\n",
       "      <td>...</td>\n",
       "      <td>...</td>\n",
       "      <td>...</td>\n",
       "      <td>...</td>\n",
       "      <td>...</td>\n",
       "      <td>...</td>\n",
       "    </tr>\n",
       "    <tr>\n",
       "      <th>405175</th>\n",
       "      <td>16.000</td>\n",
       "      <td>5.0</td>\n",
       "      <td>12.79</td>\n",
       "      <td>665</td>\n",
       "      <td>12.25</td>\n",
       "      <td>150.0</td>\n",
       "      <td>0</td>\n",
       "      <td>0</td>\n",
       "      <td>0</td>\n",
       "      <td>1</td>\n",
       "      <td>0</td>\n",
       "      <td>0</td>\n",
       "      <td>12</td>\n",
       "      <td>7.700</td>\n",
       "      <td>55.0</td>\n",
       "      <td>1</td>\n",
       "      <td>0</td>\n",
       "    </tr>\n",
       "    <tr>\n",
       "      <th>405176</th>\n",
       "      <td>24.000</td>\n",
       "      <td>5.0</td>\n",
       "      <td>12.79</td>\n",
       "      <td>665</td>\n",
       "      <td>19.61</td>\n",
       "      <td>95.0</td>\n",
       "      <td>0</td>\n",
       "      <td>1</td>\n",
       "      <td>0</td>\n",
       "      <td>0</td>\n",
       "      <td>0</td>\n",
       "      <td>0</td>\n",
       "      <td>5</td>\n",
       "      <td>49.431</td>\n",
       "      <td>84.4</td>\n",
       "      <td>0</td>\n",
       "      <td>0</td>\n",
       "    </tr>\n",
       "    <tr>\n",
       "      <th>405177</th>\n",
       "      <td>40.000</td>\n",
       "      <td>5.0</td>\n",
       "      <td>10.49</td>\n",
       "      <td>705</td>\n",
       "      <td>12.75</td>\n",
       "      <td>227.0</td>\n",
       "      <td>1</td>\n",
       "      <td>1</td>\n",
       "      <td>0</td>\n",
       "      <td>0</td>\n",
       "      <td>0</td>\n",
       "      <td>0</td>\n",
       "      <td>5</td>\n",
       "      <td>8.633</td>\n",
       "      <td>64.9</td>\n",
       "      <td>0</td>\n",
       "      <td>0</td>\n",
       "    </tr>\n",
       "    <tr>\n",
       "      <th>405178</th>\n",
       "      <td>24.000</td>\n",
       "      <td>5.0</td>\n",
       "      <td>14.49</td>\n",
       "      <td>660</td>\n",
       "      <td>18.30</td>\n",
       "      <td>110.0</td>\n",
       "      <td>0</td>\n",
       "      <td>0</td>\n",
       "      <td>0</td>\n",
       "      <td>1</td>\n",
       "      <td>1</td>\n",
       "      <td>0</td>\n",
       "      <td>10</td>\n",
       "      <td>17.641</td>\n",
       "      <td>68.1</td>\n",
       "      <td>1</td>\n",
       "      <td>1</td>\n",
       "    </tr>\n",
       "    <tr>\n",
       "      <th>405179</th>\n",
       "      <td>14.000</td>\n",
       "      <td>5.0</td>\n",
       "      <td>14.49</td>\n",
       "      <td>660</td>\n",
       "      <td>23.36</td>\n",
       "      <td>95.0</td>\n",
       "      <td>1</td>\n",
       "      <td>1</td>\n",
       "      <td>0</td>\n",
       "      <td>0</td>\n",
       "      <td>0</td>\n",
       "      <td>0</td>\n",
       "      <td>8</td>\n",
       "      <td>7.662</td>\n",
       "      <td>54.0</td>\n",
       "      <td>0</td>\n",
       "      <td>0</td>\n",
       "    </tr>\n",
       "  </tbody>\n",
       "</table>\n",
       "<p>405180 rows × 17 columns</p>\n",
       "</div>"
      ],
      "text/plain": [
       "        loan_amnt  loan_term  int_rate  fico    dti  annual_income  \\\n",
       "0           7.200        3.0      5.32   750  19.05           49.0   \n",
       "1          12.000        5.0     11.99   670   6.59           49.0   \n",
       "2          11.425        3.0     19.53   730  35.56           26.0   \n",
       "3          17.500        3.0     13.67   665  38.29           46.0   \n",
       "4          22.875        5.0     17.27   670  11.75           65.0   \n",
       "...           ...        ...       ...   ...    ...            ...   \n",
       "405175     16.000        5.0     12.79   665  12.25          150.0   \n",
       "405176     24.000        5.0     12.79   665  19.61           95.0   \n",
       "405177     40.000        5.0     10.49   705  12.75          227.0   \n",
       "405178     24.000        5.0     14.49   660  18.30          110.0   \n",
       "405179     14.000        5.0     14.49   660  23.36           95.0   \n",
       "\n",
       "        income_verification  home_mortgage  home_own  home_rent  \\\n",
       "0                         0              1         0          0   \n",
       "1                         0              1         0          0   \n",
       "2                         0              0         0          1   \n",
       "3                         0              0         0          1   \n",
       "4                         0              0         0          1   \n",
       "...                     ...            ...       ...        ...   \n",
       "405175                    0              0         0          1   \n",
       "405176                    0              1         0          0   \n",
       "405177                    1              1         0          0   \n",
       "405178                    0              0         0          1   \n",
       "405179                    1              1         0          0   \n",
       "\n",
       "        debt_consolidation  coborrower  num_accounts  revol_bal  revol_util  \\\n",
       "0                        1           0            11      9.309        18.4   \n",
       "1                        0           0            10     12.152        50.6   \n",
       "2                        0           0            11      2.096         7.2   \n",
       "3                        1           0            33     18.847        62.6   \n",
       "4                        1           0             6     25.200        90.0   \n",
       "...                    ...         ...           ...        ...         ...   \n",
       "405175                   0           0            12      7.700        55.0   \n",
       "405176                   0           0             5     49.431        84.4   \n",
       "405177                   0           0             5      8.633        64.9   \n",
       "405178                   1           0            10     17.641        68.1   \n",
       "405179                   0           0             8      7.662        54.0   \n",
       "\n",
       "        derogatory_records  loan_default  \n",
       "0                        0             0  \n",
       "1                        0             1  \n",
       "2                        0             0  \n",
       "3                        0             0  \n",
       "4                        0             0  \n",
       "...                    ...           ...  \n",
       "405175                   1             0  \n",
       "405176                   0             0  \n",
       "405177                   0             0  \n",
       "405178                   1             1  \n",
       "405179                   0             0  \n",
       "\n",
       "[405180 rows x 17 columns]"
      ]
     },
     "execution_count": 24,
     "metadata": {},
     "output_type": "execute_result"
    }
   ],
   "source": [
    "loans = pd.read_csv(f'{path}/loan_performance_data_2016.csv')\n",
    "loans"
   ]
  },
  {
   "cell_type": "code",
   "execution_count": 25,
   "metadata": {},
   "outputs": [
    {
     "data": {
      "text/plain": [
       "405180"
      ]
     },
     "execution_count": 25,
     "metadata": {},
     "output_type": "execute_result"
    }
   ],
   "source": [
    "len(loans)"
   ]
  },
  {
   "cell_type": "markdown",
   "metadata": {},
   "source": [
    "I think that an explanatory variable of whether or not a loan deafults is going to be the term of the loan. When a loan is longer term, there are more variables that can cause someone to default such as a crash of the market or the loan holder losing their job."
   ]
  },
  {
   "cell_type": "markdown",
   "metadata": {},
   "source": [
    "<div class = \"panel panel-primary\">\n",
    "    <div class = \"panel-heading\"> \n",
    "    <span style=\"color:white\"><b>Task 2</b>\n",
    "    </div>\n",
    "    <div class = \"panel-body\"> \n",
    "    We will be creating a logistic regression model to predict the \"loan_default\" column, with the rest of the columns as feature variables. \n",
    "    <br><br>\n",
    "    Create a new variable called <code>loan_features</code> to store just the columns that are input variables, and another variable called <code>loan_target</code> to store the prediction target. Each array shoud have the following shapes: \n",
    "    <ul>\n",
    "        <li><code>loan_features.shape = (405180, 16)</code></li>\n",
    "        <li><code>loan_target.shape = (405180,)</code></li>\n",
    "    </ul>\n",
    "    <p style=\"text-align:right;\">[10pts]</p>\n",
    "    </div>\n",
    "</div>"
   ]
  },
  {
   "cell_type": "code",
   "execution_count": 26,
   "metadata": {},
   "outputs": [
    {
     "data": {
      "text/html": [
       "<div>\n",
       "<style scoped>\n",
       "    .dataframe tbody tr th:only-of-type {\n",
       "        vertical-align: middle;\n",
       "    }\n",
       "\n",
       "    .dataframe tbody tr th {\n",
       "        vertical-align: top;\n",
       "    }\n",
       "\n",
       "    .dataframe thead th {\n",
       "        text-align: right;\n",
       "    }\n",
       "</style>\n",
       "<table border=\"1\" class=\"dataframe\">\n",
       "  <thead>\n",
       "    <tr style=\"text-align: right;\">\n",
       "      <th></th>\n",
       "      <th>loan_amnt</th>\n",
       "      <th>loan_term</th>\n",
       "      <th>int_rate</th>\n",
       "      <th>fico</th>\n",
       "      <th>dti</th>\n",
       "      <th>annual_income</th>\n",
       "      <th>income_verification</th>\n",
       "      <th>home_mortgage</th>\n",
       "      <th>home_own</th>\n",
       "      <th>home_rent</th>\n",
       "      <th>debt_consolidation</th>\n",
       "      <th>coborrower</th>\n",
       "      <th>num_accounts</th>\n",
       "      <th>revol_bal</th>\n",
       "      <th>revol_util</th>\n",
       "      <th>derogatory_records</th>\n",
       "    </tr>\n",
       "  </thead>\n",
       "  <tbody>\n",
       "    <tr>\n",
       "      <th>0</th>\n",
       "      <td>7.200</td>\n",
       "      <td>3.0</td>\n",
       "      <td>5.32</td>\n",
       "      <td>750</td>\n",
       "      <td>19.05</td>\n",
       "      <td>49.0</td>\n",
       "      <td>0</td>\n",
       "      <td>1</td>\n",
       "      <td>0</td>\n",
       "      <td>0</td>\n",
       "      <td>1</td>\n",
       "      <td>0</td>\n",
       "      <td>11</td>\n",
       "      <td>9.309</td>\n",
       "      <td>18.4</td>\n",
       "      <td>0</td>\n",
       "    </tr>\n",
       "    <tr>\n",
       "      <th>1</th>\n",
       "      <td>12.000</td>\n",
       "      <td>5.0</td>\n",
       "      <td>11.99</td>\n",
       "      <td>670</td>\n",
       "      <td>6.59</td>\n",
       "      <td>49.0</td>\n",
       "      <td>0</td>\n",
       "      <td>1</td>\n",
       "      <td>0</td>\n",
       "      <td>0</td>\n",
       "      <td>0</td>\n",
       "      <td>0</td>\n",
       "      <td>10</td>\n",
       "      <td>12.152</td>\n",
       "      <td>50.6</td>\n",
       "      <td>0</td>\n",
       "    </tr>\n",
       "    <tr>\n",
       "      <th>2</th>\n",
       "      <td>11.425</td>\n",
       "      <td>3.0</td>\n",
       "      <td>19.53</td>\n",
       "      <td>730</td>\n",
       "      <td>35.56</td>\n",
       "      <td>26.0</td>\n",
       "      <td>0</td>\n",
       "      <td>0</td>\n",
       "      <td>0</td>\n",
       "      <td>1</td>\n",
       "      <td>0</td>\n",
       "      <td>0</td>\n",
       "      <td>11</td>\n",
       "      <td>2.096</td>\n",
       "      <td>7.2</td>\n",
       "      <td>0</td>\n",
       "    </tr>\n",
       "    <tr>\n",
       "      <th>3</th>\n",
       "      <td>17.500</td>\n",
       "      <td>3.0</td>\n",
       "      <td>13.67</td>\n",
       "      <td>665</td>\n",
       "      <td>38.29</td>\n",
       "      <td>46.0</td>\n",
       "      <td>0</td>\n",
       "      <td>0</td>\n",
       "      <td>0</td>\n",
       "      <td>1</td>\n",
       "      <td>1</td>\n",
       "      <td>0</td>\n",
       "      <td>33</td>\n",
       "      <td>18.847</td>\n",
       "      <td>62.6</td>\n",
       "      <td>0</td>\n",
       "    </tr>\n",
       "    <tr>\n",
       "      <th>4</th>\n",
       "      <td>22.875</td>\n",
       "      <td>5.0</td>\n",
       "      <td>17.27</td>\n",
       "      <td>670</td>\n",
       "      <td>11.75</td>\n",
       "      <td>65.0</td>\n",
       "      <td>0</td>\n",
       "      <td>0</td>\n",
       "      <td>0</td>\n",
       "      <td>1</td>\n",
       "      <td>1</td>\n",
       "      <td>0</td>\n",
       "      <td>6</td>\n",
       "      <td>25.200</td>\n",
       "      <td>90.0</td>\n",
       "      <td>0</td>\n",
       "    </tr>\n",
       "    <tr>\n",
       "      <th>...</th>\n",
       "      <td>...</td>\n",
       "      <td>...</td>\n",
       "      <td>...</td>\n",
       "      <td>...</td>\n",
       "      <td>...</td>\n",
       "      <td>...</td>\n",
       "      <td>...</td>\n",
       "      <td>...</td>\n",
       "      <td>...</td>\n",
       "      <td>...</td>\n",
       "      <td>...</td>\n",
       "      <td>...</td>\n",
       "      <td>...</td>\n",
       "      <td>...</td>\n",
       "      <td>...</td>\n",
       "      <td>...</td>\n",
       "    </tr>\n",
       "    <tr>\n",
       "      <th>405175</th>\n",
       "      <td>16.000</td>\n",
       "      <td>5.0</td>\n",
       "      <td>12.79</td>\n",
       "      <td>665</td>\n",
       "      <td>12.25</td>\n",
       "      <td>150.0</td>\n",
       "      <td>0</td>\n",
       "      <td>0</td>\n",
       "      <td>0</td>\n",
       "      <td>1</td>\n",
       "      <td>0</td>\n",
       "      <td>0</td>\n",
       "      <td>12</td>\n",
       "      <td>7.700</td>\n",
       "      <td>55.0</td>\n",
       "      <td>1</td>\n",
       "    </tr>\n",
       "    <tr>\n",
       "      <th>405176</th>\n",
       "      <td>24.000</td>\n",
       "      <td>5.0</td>\n",
       "      <td>12.79</td>\n",
       "      <td>665</td>\n",
       "      <td>19.61</td>\n",
       "      <td>95.0</td>\n",
       "      <td>0</td>\n",
       "      <td>1</td>\n",
       "      <td>0</td>\n",
       "      <td>0</td>\n",
       "      <td>0</td>\n",
       "      <td>0</td>\n",
       "      <td>5</td>\n",
       "      <td>49.431</td>\n",
       "      <td>84.4</td>\n",
       "      <td>0</td>\n",
       "    </tr>\n",
       "    <tr>\n",
       "      <th>405177</th>\n",
       "      <td>40.000</td>\n",
       "      <td>5.0</td>\n",
       "      <td>10.49</td>\n",
       "      <td>705</td>\n",
       "      <td>12.75</td>\n",
       "      <td>227.0</td>\n",
       "      <td>1</td>\n",
       "      <td>1</td>\n",
       "      <td>0</td>\n",
       "      <td>0</td>\n",
       "      <td>0</td>\n",
       "      <td>0</td>\n",
       "      <td>5</td>\n",
       "      <td>8.633</td>\n",
       "      <td>64.9</td>\n",
       "      <td>0</td>\n",
       "    </tr>\n",
       "    <tr>\n",
       "      <th>405178</th>\n",
       "      <td>24.000</td>\n",
       "      <td>5.0</td>\n",
       "      <td>14.49</td>\n",
       "      <td>660</td>\n",
       "      <td>18.30</td>\n",
       "      <td>110.0</td>\n",
       "      <td>0</td>\n",
       "      <td>0</td>\n",
       "      <td>0</td>\n",
       "      <td>1</td>\n",
       "      <td>1</td>\n",
       "      <td>0</td>\n",
       "      <td>10</td>\n",
       "      <td>17.641</td>\n",
       "      <td>68.1</td>\n",
       "      <td>1</td>\n",
       "    </tr>\n",
       "    <tr>\n",
       "      <th>405179</th>\n",
       "      <td>14.000</td>\n",
       "      <td>5.0</td>\n",
       "      <td>14.49</td>\n",
       "      <td>660</td>\n",
       "      <td>23.36</td>\n",
       "      <td>95.0</td>\n",
       "      <td>1</td>\n",
       "      <td>1</td>\n",
       "      <td>0</td>\n",
       "      <td>0</td>\n",
       "      <td>0</td>\n",
       "      <td>0</td>\n",
       "      <td>8</td>\n",
       "      <td>7.662</td>\n",
       "      <td>54.0</td>\n",
       "      <td>0</td>\n",
       "    </tr>\n",
       "  </tbody>\n",
       "</table>\n",
       "<p>405180 rows × 16 columns</p>\n",
       "</div>"
      ],
      "text/plain": [
       "        loan_amnt  loan_term  int_rate  fico    dti  annual_income  \\\n",
       "0           7.200        3.0      5.32   750  19.05           49.0   \n",
       "1          12.000        5.0     11.99   670   6.59           49.0   \n",
       "2          11.425        3.0     19.53   730  35.56           26.0   \n",
       "3          17.500        3.0     13.67   665  38.29           46.0   \n",
       "4          22.875        5.0     17.27   670  11.75           65.0   \n",
       "...           ...        ...       ...   ...    ...            ...   \n",
       "405175     16.000        5.0     12.79   665  12.25          150.0   \n",
       "405176     24.000        5.0     12.79   665  19.61           95.0   \n",
       "405177     40.000        5.0     10.49   705  12.75          227.0   \n",
       "405178     24.000        5.0     14.49   660  18.30          110.0   \n",
       "405179     14.000        5.0     14.49   660  23.36           95.0   \n",
       "\n",
       "        income_verification  home_mortgage  home_own  home_rent  \\\n",
       "0                         0              1         0          0   \n",
       "1                         0              1         0          0   \n",
       "2                         0              0         0          1   \n",
       "3                         0              0         0          1   \n",
       "4                         0              0         0          1   \n",
       "...                     ...            ...       ...        ...   \n",
       "405175                    0              0         0          1   \n",
       "405176                    0              1         0          0   \n",
       "405177                    1              1         0          0   \n",
       "405178                    0              0         0          1   \n",
       "405179                    1              1         0          0   \n",
       "\n",
       "        debt_consolidation  coborrower  num_accounts  revol_bal  revol_util  \\\n",
       "0                        1           0            11      9.309        18.4   \n",
       "1                        0           0            10     12.152        50.6   \n",
       "2                        0           0            11      2.096         7.2   \n",
       "3                        1           0            33     18.847        62.6   \n",
       "4                        1           0             6     25.200        90.0   \n",
       "...                    ...         ...           ...        ...         ...   \n",
       "405175                   0           0            12      7.700        55.0   \n",
       "405176                   0           0             5     49.431        84.4   \n",
       "405177                   0           0             5      8.633        64.9   \n",
       "405178                   1           0            10     17.641        68.1   \n",
       "405179                   0           0             8      7.662        54.0   \n",
       "\n",
       "        derogatory_records  \n",
       "0                        0  \n",
       "1                        0  \n",
       "2                        0  \n",
       "3                        0  \n",
       "4                        0  \n",
       "...                    ...  \n",
       "405175                   1  \n",
       "405176                   0  \n",
       "405177                   0  \n",
       "405178                   1  \n",
       "405179                   0  \n",
       "\n",
       "[405180 rows x 16 columns]"
      ]
     },
     "execution_count": 26,
     "metadata": {},
     "output_type": "execute_result"
    }
   ],
   "source": [
    "loan_features = loans.drop(['loan_default'], axis = 1).copy()\n",
    "loan_features\n",
    "\n",
    "#created variable to store all input variables in order to predict whether or not a loan will default"
   ]
  },
  {
   "cell_type": "code",
   "execution_count": 27,
   "metadata": {
    "scrolled": true
   },
   "outputs": [
    {
     "data": {
      "text/plain": [
       "0         0\n",
       "1         1\n",
       "2         0\n",
       "3         0\n",
       "4         0\n",
       "         ..\n",
       "405175    0\n",
       "405176    0\n",
       "405177    0\n",
       "405178    1\n",
       "405179    0\n",
       "Name: loan_default, Length: 405180, dtype: int64"
      ]
     },
     "execution_count": 27,
     "metadata": {},
     "output_type": "execute_result"
    }
   ],
   "source": [
    "loan_target = loans.loc[:, 'loan_default'].copy()\n",
    "loan_target\n",
    "\n",
    "#created variable to store output data (ie. whether or not the loan defaulted)"
   ]
  },
  {
   "cell_type": "code",
   "execution_count": 28,
   "metadata": {},
   "outputs": [
    {
     "data": {
      "text/plain": [
       "(405180, 16)"
      ]
     },
     "execution_count": 28,
     "metadata": {},
     "output_type": "execute_result"
    }
   ],
   "source": [
    "loan_features.shape"
   ]
  },
  {
   "cell_type": "code",
   "execution_count": 29,
   "metadata": {},
   "outputs": [
    {
     "data": {
      "text/plain": [
       "(405180,)"
      ]
     },
     "execution_count": 29,
     "metadata": {},
     "output_type": "execute_result"
    }
   ],
   "source": [
    "loan_target.shape"
   ]
  },
  {
   "cell_type": "markdown",
   "metadata": {},
   "source": [
    "<div class = \"panel panel-primary\">\n",
    "    <div class = \"panel-heading\"> \n",
    "    <span style=\"color:white\"><b>Task 3</b>\n",
    "    </div>\n",
    "    <div class = \"panel-body\"> \n",
    "    Fit a logistic regression model using the data stored in <code>loan_features</code> and <code>loan_target</code>. \n",
    "    <br><br>\n",
    "    Recall that this is done by calling <code>LogisticRegression()</code> from the <code>sklearn.linear\\_model</code> module, and using the <code>fit()</code> method. Store the fitted model in a variable called <code>logistic_model</code>.\n",
    "    <p style=\"text-align:right;\">[15pts]</p>\n",
    "    </div>\n",
    "</div>"
   ]
  },
  {
   "cell_type": "code",
   "execution_count": 30,
   "metadata": {},
   "outputs": [],
   "source": [
    "logistic_model = LogisticRegression(max_iter = 1000).fit(X = loan_features, y = loan_target)\n"
   ]
  },
  {
   "cell_type": "markdown",
   "metadata": {},
   "source": [
    "<div class = \"panel panel-primary\">\n",
    "    <div class = \"panel-heading\"> \n",
    "    <span style=\"color:white\"><b>Task 4</b>\n",
    "    </div>\n",
    "    <div class = \"panel-body\"> \n",
    "    Examine the model's fitted coefficients (stored in the <code>coef_</code> attribute), and answer the following questions:\n",
    "    <ul>\n",
    "        <li>How should we interpret the output of the logistic regression model?</li>\n",
    "        <li>How should we interpret a positive coefficient in the logistic regression model? How about a negative coefficient?</li>\n",
    "        <li>Are all the signs of the fitted coeffiecients in your logistic regression model for each variable as expected? If not, list the variables with unexpected signs and explain what the expected sign on the coefficient should be and why.</li>\n",
    "    </ul>\n",
    "    <p style=\"text-align:right;\">[20pts]</p>\n",
    "    </div>\n",
    "</div>"
   ]
  },
  {
   "cell_type": "code",
   "execution_count": 31,
   "metadata": {},
   "outputs": [
    {
     "data": {
      "text/plain": [
       "loan_amnt              0.011500\n",
       "loan_term              0.299658\n",
       "int_rate               0.092084\n",
       "fico                  -0.005852\n",
       "dti                    0.009946\n",
       "annual_income         -0.001236\n",
       "income_verification    0.103053\n",
       "home_mortgage         -0.173258\n",
       "home_own               0.013054\n",
       "home_rent              0.172240\n",
       "debt_consolidation    -0.083727\n",
       "coborrower            -0.051549\n",
       "num_accounts           0.012690\n",
       "revol_bal             -0.004194\n",
       "revol_util            -0.000674\n",
       "derogatory_records     0.099752\n",
       "dtype: float64"
      ]
     },
     "execution_count": 31,
     "metadata": {},
     "output_type": "execute_result"
    }
   ],
   "source": [
    "pd.Series(logistic_model.coef_[0], index = loan_features.columns)"
   ]
  },
  {
   "cell_type": "markdown",
   "metadata": {},
   "source": [
    "In this case the biggest factors are:\n",
    "1: loan term (.29), \n",
    "2: home mortgage (-.17), \n",
    "3: home rent (.17), \n",
    "4: income verifcation (.1), \n",
    "5: interest rate(.09)"
   ]
  },
  {
   "cell_type": "markdown",
   "metadata": {},
   "source": [
    "_____________________________________________________________________________"
   ]
  },
  {
   "cell_type": "markdown",
   "metadata": {},
   "source": [
    "The data outputted from using the coef_ attribute are the betas for each of data feature. A positive beta means that as the value of the feature observation point increases, the target observation (whether or not the loan defaults) is more likely to represent a value of 1 which in this case mean the loan defaults. "
   ]
  },
  {
   "cell_type": "markdown",
   "metadata": {},
   "source": [
    "_________________________________________"
   ]
  },
  {
   "cell_type": "markdown",
   "metadata": {},
   "source": [
    "[income verification] I would expect that if an observation had verified income that it would make them less likely to default vs more likely. Or at least be close to zero meaning having little impact."
   ]
  },
  {
   "cell_type": "markdown",
   "metadata": {},
   "source": [
    "[revolving balance & revolving utility]\n",
    "I would expect a higher value for both of these to make you more likely to default vs less likely. I would expect that having a higher balance of money you owe would make you more likely to default on your loans than if your balance was lower and I would expect the same for your utility.\n",
    "I understand that both of these values are close to zero and are of little impact, but with the amount of trials I would expect them to converge to their mean (which I assumed was positive)."
   ]
  },
  {
   "cell_type": "markdown",
   "metadata": {},
   "source": [
    "<div class = \"panel panel-primary\">\n",
    "    <div class = \"panel-heading\"> \n",
    "    <span style=\"color:white\"><b>Task 5</b>\n",
    "    </div>\n",
    "    <div class = \"panel-body\"> \n",
    "    Calculate the logistic regression model's classification error on our dataset <code>loan_features</code> and <code>loan_target</code>. Recall that this is done by calling the <code>score()</code> method from <code>logistic_model</code>.\n",
    "    <p style=\"text-align:right;\">[10pts]</p>\n",
    "    </div>\n",
    "</div>"
   ]
  },
  {
   "cell_type": "code",
   "execution_count": 32,
   "metadata": {},
   "outputs": [
    {
     "data": {
      "text/plain": [
       "0.8063749444691248"
      ]
     },
     "execution_count": 32,
     "metadata": {},
     "output_type": "execute_result"
    }
   ],
   "source": [
    "score = logistic_model.score(X = loan_features,y = loan_target)\n",
    "score"
   ]
  },
  {
   "cell_type": "markdown",
   "metadata": {},
   "source": [
    "<div class = \"panel panel-primary\">\n",
    "    <div class = \"panel-heading\"> \n",
    "    <span style=\"color:white\"><b>Task 6</b>\n",
    "    </div>\n",
    "    <div class = \"panel-body\"> \n",
    "    Use the fitted logistic regression model saved in <code>logistic_model</code> to predict the loan default probabilities for the loans in <code>loan_features</code>. Recall that this is done by calling the <code>predict_proba()</code> method from logistic_model. \n",
    "    <br><br>\n",
    "    Note that while the output of <code>predict_proba()</code> is a 2-d array, we only need the 2nd column, which is the probability of loan defaults, and should be a vector of numbers between 0 and 1. Index the 2nd columns and store the probabilities in a variable called <code>model_prob</code>.\n",
    "    <br><br>\n",
    "    Calculate the average predicted probability of default for the loans in <code>loan_features</code>. How close is it to the actual observed default probability for the loans in the test dataset <code>loan_target</code>?\n",
    "    <p style=\"text-align:right;\">[15pts]</p>\n",
    "    </div>\n",
    "</div>"
   ]
  },
  {
   "cell_type": "code",
   "execution_count": 33,
   "metadata": {},
   "outputs": [
    {
     "data": {
      "text/plain": [
       "array([0.04995092, 0.21498883, 0.30753727, ..., 0.19308043, 0.37739351,\n",
       "       0.31448359])"
      ]
     },
     "execution_count": 33,
     "metadata": {},
     "output_type": "execute_result"
    }
   ],
   "source": [
    "model_prob = logistic_model.predict_proba(loan_features)[:, 1]\n",
    "model_prob"
   ]
  },
  {
   "cell_type": "code",
   "execution_count": 34,
   "metadata": {},
   "outputs": [
    {
     "data": {
      "text/plain": [
       "405180"
      ]
     },
     "execution_count": 34,
     "metadata": {},
     "output_type": "execute_result"
    }
   ],
   "source": [
    "len(model_prob)"
   ]
  },
  {
   "cell_type": "code",
   "execution_count": 35,
   "metadata": {},
   "outputs": [
    {
     "data": {
      "text/plain": [
       "0.19597987879686785"
      ]
     },
     "execution_count": 35,
     "metadata": {},
     "output_type": "execute_result"
    }
   ],
   "source": [
    "ld_prediction_mean = np.mean(model_prob)\n",
    "ld_prediction_mean"
   ]
  },
  {
   "cell_type": "code",
   "execution_count": 36,
   "metadata": {},
   "outputs": [
    {
     "data": {
      "text/plain": [
       "0.19609803050496075"
      ]
     },
     "execution_count": 36,
     "metadata": {},
     "output_type": "execute_result"
    }
   ],
   "source": [
    "ld_actual_mean = np.mean(loan_target)\n",
    "ld_actual_mean"
   ]
  },
  {
   "cell_type": "code",
   "execution_count": 37,
   "metadata": {},
   "outputs": [
    {
     "data": {
      "text/plain": [
       "0.00011815170809290065"
      ]
     },
     "execution_count": 37,
     "metadata": {},
     "output_type": "execute_result"
    }
   ],
   "source": [
    "abs(ld_prediction_mean - ld_actual_mean)"
   ]
  },
  {
   "cell_type": "code",
   "execution_count": 38,
   "metadata": {},
   "outputs": [
    {
     "data": {
      "text/plain": [
       "0.37811593952355627"
      ]
     },
     "execution_count": 38,
     "metadata": {},
     "output_type": "execute_result"
    }
   ],
   "source": [
    "RMSE = np.mean((model_prob - loan_target)**2)**.5\n",
    "RMSE"
   ]
  },
  {
   "cell_type": "markdown",
   "metadata": {},
   "source": [
    "<div class = \"panel panel-primary\">\n",
    "    <div class = \"panel-heading\"> \n",
    "    <span style=\"color:white\"><b>Task 7</b>\n",
    "    </div>\n",
    "    <div class = \"panel-body\"> \n",
    "    Calculate the loan default predictions from the logistic regression model on <code>loan_features</code> by using the <code>predict()</code> method. Note that the results should be a vector of 1's and 0's. Store the predictions in a variable called <code>model_pred</code>. \n",
    "    <p style=\"text-align:right;\">[10pts]</p>\n",
    "    </div>\n",
    "</div>"
   ]
  },
  {
   "cell_type": "code",
   "execution_count": 39,
   "metadata": {},
   "outputs": [
    {
     "data": {
      "text/plain": [
       "array([0, 0, 0, ..., 0, 0, 0], dtype=int64)"
      ]
     },
     "execution_count": 39,
     "metadata": {},
     "output_type": "execute_result"
    }
   ],
   "source": [
    "model_pred = logistic_model.predict(loan_features)\n",
    "model_pred"
   ]
  },
  {
   "cell_type": "code",
   "execution_count": 40,
   "metadata": {
    "scrolled": true
   },
   "outputs": [
    {
     "data": {
      "text/plain": [
       "0          True\n",
       "1         False\n",
       "2          True\n",
       "3          True\n",
       "4          True\n",
       "          ...  \n",
       "405175     True\n",
       "405176     True\n",
       "405177     True\n",
       "405178    False\n",
       "405179     True\n",
       "Name: loan_default, Length: 405180, dtype: bool"
      ]
     },
     "execution_count": 40,
     "metadata": {},
     "output_type": "execute_result"
    }
   ],
   "source": [
    "model_pred == loan_target"
   ]
  },
  {
   "cell_type": "code",
   "execution_count": 41,
   "metadata": {},
   "outputs": [
    {
     "data": {
      "text/plain": [
       "0.8063749444691248"
      ]
     },
     "execution_count": 41,
     "metadata": {},
     "output_type": "execute_result"
    }
   ],
   "source": [
    "np.mean(model_pred == loan_target)"
   ]
  },
  {
   "cell_type": "markdown",
   "metadata": {},
   "source": [
    "<div class = \"panel panel-primary\">\n",
    "    <div class = \"panel-heading\"> \n",
    "    <span style=\"color:white\"><b>Task 8</b>\n",
    "    </div>\n",
    "    <div class = \"panel-body\"> \n",
    "    Create the confusion matrix for the predictions in <code>model_pred</code> compared to the actual outcomes in <code>loan_target</code>. Recall that this can be done using the function <code>confusion_matrix()</code> from the <code>sklearn.metrics</code> module.\n",
    "    <br><br>\n",
    "    Interpret and explain the results of each of the 4 cells of the confusion matrix in the context of this project. \n",
    "    <p style=\"text-align:right;\">[15pts]</p>\n",
    "    </div>\n",
    "</div>"
   ]
  },
  {
   "cell_type": "code",
   "execution_count": 42,
   "metadata": {},
   "outputs": [
    {
     "data": {
      "text/html": [
       "<div>\n",
       "<style scoped>\n",
       "    .dataframe tbody tr th:only-of-type {\n",
       "        vertical-align: middle;\n",
       "    }\n",
       "\n",
       "    .dataframe tbody tr th {\n",
       "        vertical-align: top;\n",
       "    }\n",
       "\n",
       "    .dataframe thead th {\n",
       "        text-align: right;\n",
       "    }\n",
       "</style>\n",
       "<table border=\"1\" class=\"dataframe\">\n",
       "  <thead>\n",
       "    <tr style=\"text-align: right;\">\n",
       "      <th></th>\n",
       "      <th>0</th>\n",
       "      <th>1</th>\n",
       "    </tr>\n",
       "  </thead>\n",
       "  <tbody>\n",
       "    <tr>\n",
       "      <th>0</th>\n",
       "      <td>0.786426</td>\n",
       "      <td>0.017476</td>\n",
       "    </tr>\n",
       "    <tr>\n",
       "      <th>1</th>\n",
       "      <td>0.176149</td>\n",
       "      <td>0.019949</td>\n",
       "    </tr>\n",
       "  </tbody>\n",
       "</table>\n",
       "</div>"
      ],
      "text/plain": [
       "          0         1\n",
       "0  0.786426  0.017476\n",
       "1  0.176149  0.019949"
      ]
     },
     "execution_count": 42,
     "metadata": {},
     "output_type": "execute_result"
    }
   ],
   "source": [
    "pd.DataFrame(confusion_matrix(y_true = loan_target, y_pred = model_pred) / len(loan_target))"
   ]
  },
  {
   "cell_type": "markdown",
   "metadata": {
    "collapsed": true
   },
   "source": [
    "78.64% of the data are [non-defaults] and we predicted them to be [non-defaults]"
   ]
  },
  {
   "cell_type": "markdown",
   "metadata": {},
   "source": [
    "1.74% of the data are [defaults] and we predicted them to be [non-defaults]"
   ]
  },
  {
   "cell_type": "markdown",
   "metadata": {},
   "source": [
    "17.61% of the data are [non-defaults] and we predicted them to be [defaults]"
   ]
  },
  {
   "cell_type": "markdown",
   "metadata": {},
   "source": [
    "1.99% of the data are [defaults] and we predicted them to be [defaults]"
   ]
  }
 ],
 "metadata": {
  "kernelspec": {
   "display_name": "Python 3",
   "language": "python",
   "name": "python3"
  },
  "language_info": {
   "codemirror_mode": {
    "name": "ipython",
    "version": 3
   },
   "file_extension": ".py",
   "mimetype": "text/x-python",
   "name": "python",
   "nbconvert_exporter": "python",
   "pygments_lexer": "ipython3",
   "version": "3.8.5"
  }
 },
 "nbformat": 4,
 "nbformat_minor": 2
}
